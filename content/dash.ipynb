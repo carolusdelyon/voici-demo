{
 "cells": [
  {
   "attachments": {},
   "cell_type": "markdown",
   "metadata": {},
   "source": [
    "# Hello from Voici!!"
   ]
  },
  {
   "cell_type": "code",
   "execution_count": null,
   "metadata": {},
   "outputs": [],
   "source": [
    "from IPython.display import display, Image, HTML\n",
    "from ipywidgets import interactive, Box, Layout\n",
    "import ipywidgets as widgets\n",
    "import numpy as np\n",
    "import bqplot.pyplot as plt\n",
    "\n",
    "fig = plt.figure(title=\"Sine\")\n",
    "\n",
    "# create data vectors\n",
    "x = np.linspace(-10, 10, 200)\n",
    "y = np.sin(x)\n",
    "\n",
    "# create line mark\n",
    "line = plt.plot(x, y)\n",
    "\n",
    "button_labels = [\"01\", \"02\", \"03\", \"04\", \"05\", \"06\", \"07\", \"08\", \"09\", \"10\",\n",
    "                 \"11\", \"12\", \"13\", \"14\", \"15\", \"16\", \"17\", \"18\", \"19\", \"20\", \"21\", \"22\"]\n",
    "\n",
    "button_valves = [widgets.Button(\n",
    "    description=label,\n",
    "    layout={'width': 'min-content'},\n",
    "    button_style='',\n",
    "    tooltip='Click me',\n",
    "    style=widgets.ButtonStyle(button_color='#eee')\n",
    ")for label in button_labels]\n",
    "\n",
    "\n",
    "buttons = widgets.GridBox(children=button_valves,\n",
    "                          layout=Layout(\n",
    "                              width='150px',\n",
    "                              grid_template_columns='auto auto auto',\n",
    "                              grid_template_rows='auto auto auto',\n",
    "                              align_items='center',\n",
    "                              grid_gap='0px 0px')\n",
    "                          )\n",
    "\n",
    "display(buttons)\n",
    "plt.show()"
   ]
  }
 ],
 "metadata": {
  "kernelspec": {
   "display_name": "Python 3",
   "language": "python",
   "name": "python3"
  },
  "language_info": {
   "codemirror_mode": {
    "name": "ipython",
    "version": 3
   },
   "file_extension": ".py",
   "mimetype": "text/x-python",
   "name": "python",
   "nbconvert_exporter": "python",
   "pygments_lexer": "ipython3",
   "version": "3.11.2"
  },
  "vscode": {
   "interpreter": {
    "hash": "e7370f93d1d0cde622a1f8e1c04877d8463912d04d973331ad4851f04de6915a"
   }
  }
 },
 "nbformat": 4,
 "nbformat_minor": 4
}
